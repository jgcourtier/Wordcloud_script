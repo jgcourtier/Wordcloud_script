{
 "cells": [
  {
   "cell_type": "markdown",
   "id": "5c43b5ca",
   "metadata": {
    "_cell_guid": "239be4ff-da41-4d3d-8a5a-ae60566ef168",
    "_uuid": "31c63440-143b-4ee6-a7d5-db63cae03feb",
    "collapsed": false,
    "jupyter": {
     "outputs_hidden": false
    },
    "papermill": {
     "duration": 0.003034,
     "end_time": "2025-05-30T13:48:41.748972",
     "exception": false,
     "start_time": "2025-05-30T13:48:41.745938",
     "status": "completed"
    },
    "tags": []
   },
   "source": [
    "### Automated word cloud script\n",
    "\n",
    "##### The purpose of this script is to take natural language data that is in a single row of a table ie:\n",
    "##### 'The SERVICE was absolutely wonderful'\n",
    "\n",
    "##### And format it in such a way where the end result is a removal of stop words, uniform it lowercase, and separate each token into a new row so that a word cloud in Tableau can be produced, counting each word as a separate row.\n",
    "\n",
    "##### Result:\n",
    "##### service\n",
    "##### absolutely\n",
    "##### wonderful"
   ]
  },
  {
   "cell_type": "code",
   "execution_count": 1,
   "id": "83491d06",
   "metadata": {
    "_cell_guid": "2656d8fe-81f3-41c1-9cb8-5598176959f3",
    "_uuid": "accfd5fe-fd23-4303-92a6-00009c84d390",
    "collapsed": false,
    "execution": {
     "iopub.execute_input": "2025-05-30T13:48:41.755511Z",
     "iopub.status.busy": "2025-05-30T13:48:41.754991Z",
     "iopub.status.idle": "2025-05-30T13:48:45.353419Z",
     "shell.execute_reply": "2025-05-30T13:48:45.352179Z"
    },
    "jupyter": {
     "outputs_hidden": false
    },
    "papermill": {
     "duration": 3.603791,
     "end_time": "2025-05-30T13:48:45.355521",
     "exception": false,
     "start_time": "2025-05-30T13:48:41.751730",
     "status": "completed"
    },
    "tags": []
   },
   "outputs": [],
   "source": [
    "import pandas as pd\n",
    "import nltk\n",
    "from nltk.corpus import stopwords\n",
    "from nltk.tokenize import word_tokenize\n",
    "import string\n",
    "# nltk.download('stopwords')\n",
    "\n",
    "\n",
    "df = pd.DataFrame({'Text': ['The service was absolutely WONDERFUL','its great','not too bad', 'I like it']})\n",
    "\n",
    "pd.set_option('max_colwidth',None)"
   ]
  },
  {
   "cell_type": "code",
   "execution_count": 2,
   "id": "fa1ef574",
   "metadata": {
    "execution": {
     "iopub.execute_input": "2025-05-30T13:48:45.362236Z",
     "iopub.status.busy": "2025-05-30T13:48:45.361652Z",
     "iopub.status.idle": "2025-05-30T13:48:45.391254Z",
     "shell.execute_reply": "2025-05-30T13:48:45.389864Z"
    },
    "papermill": {
     "duration": 0.034868,
     "end_time": "2025-05-30T13:48:45.393204",
     "exception": false,
     "start_time": "2025-05-30T13:48:45.358336",
     "status": "completed"
    },
    "tags": []
   },
   "outputs": [
    {
     "data": {
      "text/html": [
       "<div>\n",
       "<style scoped>\n",
       "    .dataframe tbody tr th:only-of-type {\n",
       "        vertical-align: middle;\n",
       "    }\n",
       "\n",
       "    .dataframe tbody tr th {\n",
       "        vertical-align: top;\n",
       "    }\n",
       "\n",
       "    .dataframe thead th {\n",
       "        text-align: right;\n",
       "    }\n",
       "</style>\n",
       "<table border=\"1\" class=\"dataframe\">\n",
       "  <thead>\n",
       "    <tr style=\"text-align: right;\">\n",
       "      <th></th>\n",
       "      <th>Text</th>\n",
       "    </tr>\n",
       "  </thead>\n",
       "  <tbody>\n",
       "    <tr>\n",
       "      <th>0</th>\n",
       "      <td>The service was absolutely WONDERFUL</td>\n",
       "    </tr>\n",
       "    <tr>\n",
       "      <th>1</th>\n",
       "      <td>its great</td>\n",
       "    </tr>\n",
       "    <tr>\n",
       "      <th>2</th>\n",
       "      <td>not too bad</td>\n",
       "    </tr>\n",
       "    <tr>\n",
       "      <th>3</th>\n",
       "      <td>I like it</td>\n",
       "    </tr>\n",
       "  </tbody>\n",
       "</table>\n",
       "</div>"
      ],
      "text/plain": [
       "                                   Text\n",
       "0  The service was absolutely WONDERFUL\n",
       "1                             its great\n",
       "2                           not too bad\n",
       "3                             I like it"
      ]
     },
     "execution_count": 2,
     "metadata": {},
     "output_type": "execute_result"
    }
   ],
   "source": [
    "df.head()"
   ]
  },
  {
   "cell_type": "code",
   "execution_count": 3,
   "id": "ab6acde5",
   "metadata": {
    "_cell_guid": "7999ad82-8211-41f7-946f-5afac6e0d948",
    "_uuid": "8d5a4d96-c380-4f07-a371-da2db803fd80",
    "collapsed": false,
    "execution": {
     "iopub.execute_input": "2025-05-30T13:48:45.399474Z",
     "iopub.status.busy": "2025-05-30T13:48:45.399112Z",
     "iopub.status.idle": "2025-05-30T13:48:45.431070Z",
     "shell.execute_reply": "2025-05-30T13:48:45.430073Z"
    },
    "jupyter": {
     "outputs_hidden": false
    },
    "papermill": {
     "duration": 0.037225,
     "end_time": "2025-05-30T13:48:45.433034",
     "exception": false,
     "start_time": "2025-05-30T13:48:45.395809",
     "status": "completed"
    },
    "tags": []
   },
   "outputs": [],
   "source": [
    "text = df['Text']\n",
    "text = text.str.replace(r'[^\\w\\s]+', ' ')\n",
    "text = text.apply(lambda x: ' '.join([word for word in x.lower().split() if word not in stopwords.words('english')]))\n",
    "text = text.str.split()\n",
    "\n",
    "textFinal = pd.DataFrame(text) \n",
    "textFinal = textFinal.explode('Text')\n",
    "\n",
    "\n",
    "textFinal.columns = ['Text_Cleaned']\n",
    "textFinal = textFinal[~textFinal['Text_Cleaned'].isnull()]\n",
    "textFinal = textFinal[~textFinal['Text_Cleaned'].str.isdigit()]\n",
    "textFinal = textFinal[~textFinal['Text_Cleaned'].str.isalpha() == False]"
   ]
  },
  {
   "cell_type": "code",
   "execution_count": 4,
   "id": "4ea3f90e",
   "metadata": {
    "execution": {
     "iopub.execute_input": "2025-05-30T13:48:45.439163Z",
     "iopub.status.busy": "2025-05-30T13:48:45.438772Z",
     "iopub.status.idle": "2025-05-30T13:48:45.447286Z",
     "shell.execute_reply": "2025-05-30T13:48:45.446055Z"
    },
    "papermill": {
     "duration": 0.01368,
     "end_time": "2025-05-30T13:48:45.449163",
     "exception": false,
     "start_time": "2025-05-30T13:48:45.435483",
     "status": "completed"
    },
    "tags": []
   },
   "outputs": [
    {
     "data": {
      "text/html": [
       "<div>\n",
       "<style scoped>\n",
       "    .dataframe tbody tr th:only-of-type {\n",
       "        vertical-align: middle;\n",
       "    }\n",
       "\n",
       "    .dataframe tbody tr th {\n",
       "        vertical-align: top;\n",
       "    }\n",
       "\n",
       "    .dataframe thead th {\n",
       "        text-align: right;\n",
       "    }\n",
       "</style>\n",
       "<table border=\"1\" class=\"dataframe\">\n",
       "  <thead>\n",
       "    <tr style=\"text-align: right;\">\n",
       "      <th></th>\n",
       "      <th>Text_Cleaned</th>\n",
       "    </tr>\n",
       "  </thead>\n",
       "  <tbody>\n",
       "    <tr>\n",
       "      <th>0</th>\n",
       "      <td>service</td>\n",
       "    </tr>\n",
       "    <tr>\n",
       "      <th>0</th>\n",
       "      <td>absolutely</td>\n",
       "    </tr>\n",
       "    <tr>\n",
       "      <th>0</th>\n",
       "      <td>wonderful</td>\n",
       "    </tr>\n",
       "    <tr>\n",
       "      <th>1</th>\n",
       "      <td>great</td>\n",
       "    </tr>\n",
       "    <tr>\n",
       "      <th>2</th>\n",
       "      <td>bad</td>\n",
       "    </tr>\n",
       "    <tr>\n",
       "      <th>3</th>\n",
       "      <td>like</td>\n",
       "    </tr>\n",
       "  </tbody>\n",
       "</table>\n",
       "</div>"
      ],
      "text/plain": [
       "  Text_Cleaned\n",
       "0      service\n",
       "0   absolutely\n",
       "0    wonderful\n",
       "1        great\n",
       "2          bad\n",
       "3         like"
      ]
     },
     "execution_count": 4,
     "metadata": {},
     "output_type": "execute_result"
    }
   ],
   "source": [
    "textFinal.head(10)"
   ]
  }
 ],
 "metadata": {
  "kaggle": {
   "accelerator": "none",
   "dataSources": [],
   "dockerImageVersionId": 30918,
   "isGpuEnabled": false,
   "isInternetEnabled": false,
   "language": "python",
   "sourceType": "notebook"
  },
  "kernelspec": {
   "display_name": "Python 3",
   "language": "python",
   "name": "python3"
  },
  "language_info": {
   "codemirror_mode": {
    "name": "ipython",
    "version": 3
   },
   "file_extension": ".py",
   "mimetype": "text/x-python",
   "name": "python",
   "nbconvert_exporter": "python",
   "pygments_lexer": "ipython3",
   "version": "3.10.12"
  },
  "papermill": {
   "default_parameters": {},
   "duration": 8.32463,
   "end_time": "2025-05-30T13:48:46.273040",
   "environment_variables": {},
   "exception": null,
   "input_path": "__notebook__.ipynb",
   "output_path": "__notebook__.ipynb",
   "parameters": {},
   "start_time": "2025-05-30T13:48:37.948410",
   "version": "2.6.0"
  }
 },
 "nbformat": 4,
 "nbformat_minor": 5
}
