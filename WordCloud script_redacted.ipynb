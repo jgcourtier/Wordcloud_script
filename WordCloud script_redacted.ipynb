{
 "cells": [
  {
   "cell_type": "code",
   "execution_count": null,
   "metadata": {},
   "outputs": [],
   "source": [
    "import pandas as pd\n",
    "import pyodbc\n",
    "import nltk\n",
    "from nltk.corpus import stopwords\n",
    "from nltk.tokenize import word_tokenize\n",
    "import string\n",
    "nltk.download('stopwords')\n",
    "\n",
    "server = 'xxx'\n",
    "database = 'xxx'\n",
    "\n",
    "cnxn = pyodbc.connect('DRIVER={ODBC Driver 17 for SQL Server}; \\\n",
    "                        SERVER=' + server + '; \\\n",
    "                        DATABASE=' + database +';\\\n",
    "                        Trusted_Connection=yes;')\n",
    "\n",
    "query = '''xxx'''\n",
    "\n",
    "df = pd.read_sql_query(query,cnxn)\n",
    "\n",
    "cnxn.close()\n",
    "\n",
    "pd.set_option('max_colwidth',600)"
   ]
  },
  {
   "cell_type": "code",
   "execution_count": null,
   "metadata": {},
   "outputs": [],
   "source": [
    "identifier1 = 1\n",
    "identifier0 = 0\n",
    "\n",
    "a = df[df['IsRecommendedFlag']==1]['Text']\n",
    "a = a.str.replace(r'[^\\w\\s]+', ' ')\n",
    "a2 = a.apply(lambda x: ' '.join([word for word in x.lower().split() if word not in stopwords.words('english')]))\n",
    "a3 = a2.tolist()\n",
    "a3 = a2.str.split()\n",
    "\n",
    "aa = pd.DataFrame(a3)\n",
    "aa['IsRecommendedFlag'] = identifier1\n",
    "aa = aa.explode('Text')\n",
    "\n",
    "b = df[df['IsRecommendedFlag']==0]['Text']\n",
    "b = b.str.replace(r'[^\\w\\s]+', ' ')\n",
    "b2 = b.apply(lambda x: ' '.join([word for word in x.lower().split() if word not in stopwords.words('english')]))\n",
    "b3 = b2.tolist()\n",
    "b3 = b2.str.split()\n",
    "\n",
    "bb = pd.DataFrame(b3)\n",
    "bb['IsRecommendedFlag'] = identifier0\n",
    "bb = bb.explode('Text')\n",
    "\n",
    "frames = [aa, bb]\n",
    "final = pd.concat(frames)\n",
    "\n",
    "final.columns = ['Text_Cleaned', 'IsRecommendedFlag']\n",
    "final = final[~final['Text_Cleaned'].isnull()]\n",
    "final = final[~final['Text_Cleaned'].str.isdigit()]\n",
    "final = final[~final['Text_Cleaned'].str.isalpha() == False]"
   ]
  }
 ],
 "metadata": {
  "kernelspec": {
   "display_name": "base",
   "language": "python",
   "name": "python3"
  },
  "language_info": {
   "codemirror_mode": {
    "name": "ipython",
    "version": 3
   },
   "file_extension": ".py",
   "mimetype": "text/x-python",
   "name": "python",
   "nbconvert_exporter": "python",
   "pygments_lexer": "ipython3",
   "version": "3.11.7"
  }
 },
 "nbformat": 4,
 "nbformat_minor": 2
}
